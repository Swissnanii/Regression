{
 "cells": [
  {
   "cell_type": "markdown",
   "id": "d05f2a9d-9b27-45a9-8f2a-6d48132ac1c5",
   "metadata": {},
   "source": [
    "## Intro\n",
    "For this part of the project I will be cleaning and performing exploritory data analysis.\n",
    "The Goal is to perform regression analysis to see how time and power correlate to input voltage"
   ]
  },
  {
   "cell_type": "markdown",
   "id": "a0eb22c9-b253-4019-8827-3cb565357975",
   "metadata": {},
   "source": [
    "Load the relevant libraries "
   ]
  },
  {
   "cell_type": "code",
   "execution_count": 3,
   "id": "24ae1702-41e9-4873-857b-af7d66c274cb",
   "metadata": {},
   "outputs": [],
   "source": [
    "import numpy as np\n",
    "import matplotlib.pyplot as plt\n",
    "import seaborn as sns \n",
    "import pandas as pd"
   ]
  },
  {
   "cell_type": "markdown",
   "id": "10f8859f-243d-4817-b1a8-79df3134872f",
   "metadata": {},
   "source": [
    "## Import the data\n",
    "Let's take a look at this dataset to get a feel for it. I can see that two of our values are of type float64 and one is of type int. "
   ]
  },
  {
   "cell_type": "code",
   "execution_count": 5,
   "id": "e33f78b7-3f3c-4519-84a1-01c81a5151c3",
   "metadata": {},
   "outputs": [],
   "source": [
    "original_df = pd.read_csv('ex_1.csv')"
   ]
  },
  {
   "cell_type": "code",
   "execution_count": 6,
   "id": "9fbd7646-c6ea-48c0-9f45-fc6698be02ba",
   "metadata": {},
   "outputs": [],
   "source": [
    "df = original_df.copy()"
   ]
  },
  {
   "cell_type": "code",
   "execution_count": 7,
   "id": "7e237ffb-8de2-4d6b-a393-6d5b5d698ea6",
   "metadata": {},
   "outputs": [
    {
     "data": {
      "text/html": [
       "<div>\n",
       "<style scoped>\n",
       "    .dataframe tbody tr th:only-of-type {\n",
       "        vertical-align: middle;\n",
       "    }\n",
       "\n",
       "    .dataframe tbody tr th {\n",
       "        vertical-align: top;\n",
       "    }\n",
       "\n",
       "    .dataframe thead th {\n",
       "        text-align: right;\n",
       "    }\n",
       "</style>\n",
       "<table border=\"1\" class=\"dataframe\">\n",
       "  <thead>\n",
       "    <tr style=\"text-align: right;\">\n",
       "      <th></th>\n",
       "      <th>time</th>\n",
       "      <th>input_voltage</th>\n",
       "      <th>el_power</th>\n",
       "    </tr>\n",
       "  </thead>\n",
       "  <tbody>\n",
       "    <tr>\n",
       "      <th>0</th>\n",
       "      <td>810.07028</td>\n",
       "      <td>10</td>\n",
       "      <td>1228.791720</td>\n",
       "    </tr>\n",
       "    <tr>\n",
       "      <th>1</th>\n",
       "      <td>811.06938</td>\n",
       "      <td>10</td>\n",
       "      <td>1223.041745</td>\n",
       "    </tr>\n",
       "    <tr>\n",
       "      <th>2</th>\n",
       "      <td>812.06848</td>\n",
       "      <td>10</td>\n",
       "      <td>1244.960866</td>\n",
       "    </tr>\n",
       "    <tr>\n",
       "      <th>3</th>\n",
       "      <td>813.06758</td>\n",
       "      <td>10</td>\n",
       "      <td>1229.259058</td>\n",
       "    </tr>\n",
       "    <tr>\n",
       "      <th>4</th>\n",
       "      <td>814.06668</td>\n",
       "      <td>10</td>\n",
       "      <td>1248.117024</td>\n",
       "    </tr>\n",
       "    <tr>\n",
       "      <th>5</th>\n",
       "      <td>815.06578</td>\n",
       "      <td>10</td>\n",
       "      <td>1262.974403</td>\n",
       "    </tr>\n",
       "    <tr>\n",
       "      <th>6</th>\n",
       "      <td>816.06488</td>\n",
       "      <td>10</td>\n",
       "      <td>1248.077560</td>\n",
       "    </tr>\n",
       "    <tr>\n",
       "      <th>7</th>\n",
       "      <td>817.06398</td>\n",
       "      <td>10</td>\n",
       "      <td>1245.101476</td>\n",
       "    </tr>\n",
       "    <tr>\n",
       "      <th>8</th>\n",
       "      <td>818.06308</td>\n",
       "      <td>10</td>\n",
       "      <td>1275.365542</td>\n",
       "    </tr>\n",
       "    <tr>\n",
       "      <th>9</th>\n",
       "      <td>819.06218</td>\n",
       "      <td>10</td>\n",
       "      <td>1263.101210</td>\n",
       "    </tr>\n",
       "    <tr>\n",
       "      <th>10</th>\n",
       "      <td>820.06128</td>\n",
       "      <td>10</td>\n",
       "      <td>1263.135961</td>\n",
       "    </tr>\n",
       "  </tbody>\n",
       "</table>\n",
       "</div>"
      ],
      "text/plain": [
       "         time  input_voltage     el_power\n",
       "0   810.07028             10  1228.791720\n",
       "1   811.06938             10  1223.041745\n",
       "2   812.06848             10  1244.960866\n",
       "3   813.06758             10  1229.259058\n",
       "4   814.06668             10  1248.117024\n",
       "5   815.06578             10  1262.974403\n",
       "6   816.06488             10  1248.077560\n",
       "7   817.06398             10  1245.101476\n",
       "8   818.06308             10  1275.365542\n",
       "9   819.06218             10  1263.101210\n",
       "10  820.06128             10  1263.135961"
      ]
     },
     "execution_count": 7,
     "metadata": {},
     "output_type": "execute_result"
    }
   ],
   "source": [
    "df.head(11)"
   ]
  },
  {
   "cell_type": "code",
   "execution_count": 8,
   "id": "c166d65a-0a58-49d7-9c0e-a87a0d095e19",
   "metadata": {},
   "outputs": [
    {
     "name": "stdout",
     "output_type": "stream",
     "text": [
      "<class 'pandas.core.frame.DataFrame'>\n",
      "RangeIndex: 9920 entries, 0 to 9919\n",
      "Data columns (total 3 columns):\n",
      " #   Column         Non-Null Count  Dtype  \n",
      "---  ------         --------------  -----  \n",
      " 0   time           9920 non-null   float64\n",
      " 1   input_voltage  9920 non-null   int64  \n",
      " 2   el_power       9920 non-null   float64\n",
      "dtypes: float64(2), int64(1)\n",
      "memory usage: 232.6 KB\n"
     ]
    }
   ],
   "source": [
    "df.info()"
   ]
  },
  {
   "cell_type": "code",
   "execution_count": 9,
   "id": "40efe0ba-6278-4403-a423-67c65b608a06",
   "metadata": {},
   "outputs": [
    {
     "data": {
      "text/html": [
       "<div>\n",
       "<style scoped>\n",
       "    .dataframe tbody tr th:only-of-type {\n",
       "        vertical-align: middle;\n",
       "    }\n",
       "\n",
       "    .dataframe tbody tr th {\n",
       "        vertical-align: top;\n",
       "    }\n",
       "\n",
       "    .dataframe thead th {\n",
       "        text-align: right;\n",
       "    }\n",
       "</style>\n",
       "<table border=\"1\" class=\"dataframe\">\n",
       "  <thead>\n",
       "    <tr style=\"text-align: right;\">\n",
       "      <th></th>\n",
       "      <th>time</th>\n",
       "      <th>input_voltage</th>\n",
       "      <th>el_power</th>\n",
       "    </tr>\n",
       "  </thead>\n",
       "  <tbody>\n",
       "    <tr>\n",
       "      <th>count</th>\n",
       "      <td>9920.000000</td>\n",
       "      <td>9920.000000</td>\n",
       "      <td>9920.000000</td>\n",
       "    </tr>\n",
       "    <tr>\n",
       "      <th>mean</th>\n",
       "      <td>5765.317878</td>\n",
       "      <td>6.822480</td>\n",
       "      <td>2162.427874</td>\n",
       "    </tr>\n",
       "    <tr>\n",
       "      <th>std</th>\n",
       "      <td>2861.440154</td>\n",
       "      <td>3.485288</td>\n",
       "      <td>1009.468755</td>\n",
       "    </tr>\n",
       "    <tr>\n",
       "      <th>min</th>\n",
       "      <td>810.070280</td>\n",
       "      <td>3.000000</td>\n",
       "      <td>932.837260</td>\n",
       "    </tr>\n",
       "    <tr>\n",
       "      <th>25%</th>\n",
       "      <td>3287.588505</td>\n",
       "      <td>3.000000</td>\n",
       "      <td>990.027512</td>\n",
       "    </tr>\n",
       "    <tr>\n",
       "      <th>50%</th>\n",
       "      <td>5765.106730</td>\n",
       "      <td>10.000000</td>\n",
       "      <td>2709.354147</td>\n",
       "    </tr>\n",
       "    <tr>\n",
       "      <th>75%</th>\n",
       "      <td>8243.140355</td>\n",
       "      <td>10.000000</td>\n",
       "      <td>3116.416457</td>\n",
       "    </tr>\n",
       "    <tr>\n",
       "      <th>max</th>\n",
       "      <td>10720.658580</td>\n",
       "      <td>10.000000</td>\n",
       "      <td>3249.891217</td>\n",
       "    </tr>\n",
       "  </tbody>\n",
       "</table>\n",
       "</div>"
      ],
      "text/plain": [
       "               time  input_voltage     el_power\n",
       "count   9920.000000    9920.000000  9920.000000\n",
       "mean    5765.317878       6.822480  2162.427874\n",
       "std     2861.440154       3.485288  1009.468755\n",
       "min      810.070280       3.000000   932.837260\n",
       "25%     3287.588505       3.000000   990.027512\n",
       "50%     5765.106730      10.000000  2709.354147\n",
       "75%     8243.140355      10.000000  3116.416457\n",
       "max    10720.658580      10.000000  3249.891217"
      ]
     },
     "execution_count": 9,
     "metadata": {},
     "output_type": "execute_result"
    }
   ],
   "source": [
    "df.describe()"
   ]
  },
  {
   "cell_type": "code",
   "execution_count": 10,
   "id": "8c7167dc-cd17-49e7-bd06-53196ba863cd",
   "metadata": {},
   "outputs": [
    {
     "data": {
      "text/plain": [
       "(9920, 3)"
      ]
     },
     "execution_count": 10,
     "metadata": {},
     "output_type": "execute_result"
    }
   ],
   "source": [
    "df.shape"
   ]
  },
  {
   "cell_type": "markdown",
   "id": "d2e6f5a4-6322-4c44-b6cf-9eb9d965f380",
   "metadata": {},
   "source": [
    "## Cleaning The data\n",
    "First I check if their's any values to drop, since their is none we then go on to checking for outliers and renaming some of the variables to make it easier to understand.I then perform a bit of exploratory data anylsis by using a scatterplot and heatmap to visualize the relationships to see how they correlate "
   ]
  },
  {
   "cell_type": "code",
   "execution_count": 12,
   "id": "dab09893-d05b-42e0-b797-f0a2007d7d52",
   "metadata": {},
   "outputs": [
    {
     "data": {
      "text/plain": [
       "time             0\n",
       "input_voltage    0\n",
       "el_power         0\n",
       "dtype: int64"
      ]
     },
     "execution_count": 12,
     "metadata": {},
     "output_type": "execute_result"
    }
   ],
   "source": [
    "df.isnull().sum()"
   ]
  },
  {
   "cell_type": "code",
   "execution_count": 13,
   "id": "472c8fa7-e311-4797-b865-dcbfdbe9860f",
   "metadata": {},
   "outputs": [
    {
     "data": {
      "text/plain": [
       "<Axes: >"
      ]
     },
     "execution_count": 13,
     "metadata": {},
     "output_type": "execute_result"
    },
    {
     "data": {
      "image/png": "[encoded data removed]",
      "text/plain": [
       "<Figure size 640x480 with 1 Axes>"
      ]
     },
     "metadata": {},
     "output_type": "display_data"
    }
   ],
   "source": [
    "outlier_df = df[['time', 'input_voltage', 'el_power']]\n",
    "sns.boxplot(data=outlier_df)"
   ]
  },
  {
   "cell_type": "code",
   "execution_count": 14,
   "id": "b4deeb65-16da-473f-b161-18d087bc7673",
   "metadata": {},
   "outputs": [
    {
     "data": {
      "text/html": [
       "<div>\n",
       "<style scoped>\n",
       "    .dataframe tbody tr th:only-of-type {\n",
       "        vertical-align: middle;\n",
       "    }\n",
       "\n",
       "    .dataframe tbody tr th {\n",
       "        vertical-align: top;\n",
       "    }\n",
       "\n",
       "    .dataframe thead th {\n",
       "        text-align: right;\n",
       "    }\n",
       "</style>\n",
       "<table border=\"1\" class=\"dataframe\">\n",
       "  <thead>\n",
       "    <tr style=\"text-align: right;\">\n",
       "      <th></th>\n",
       "      <th>time</th>\n",
       "      <th>input_voltage</th>\n",
       "      <th>power</th>\n",
       "    </tr>\n",
       "  </thead>\n",
       "  <tbody>\n",
       "    <tr>\n",
       "      <th>9909</th>\n",
       "      <td>10710.66758</td>\n",
       "      <td>3</td>\n",
       "      <td>953.697653</td>\n",
       "    </tr>\n",
       "    <tr>\n",
       "      <th>9910</th>\n",
       "      <td>10711.66668</td>\n",
       "      <td>3</td>\n",
       "      <td>945.234157</td>\n",
       "    </tr>\n",
       "    <tr>\n",
       "      <th>9911</th>\n",
       "      <td>10712.66578</td>\n",
       "      <td>3</td>\n",
       "      <td>961.336850</td>\n",
       "    </tr>\n",
       "    <tr>\n",
       "      <th>9912</th>\n",
       "      <td>10713.66488</td>\n",
       "      <td>3</td>\n",
       "      <td>954.077284</td>\n",
       "    </tr>\n",
       "    <tr>\n",
       "      <th>9913</th>\n",
       "      <td>10714.66398</td>\n",
       "      <td>3</td>\n",
       "      <td>968.619166</td>\n",
       "    </tr>\n",
       "    <tr>\n",
       "      <th>9914</th>\n",
       "      <td>10715.66308</td>\n",
       "      <td>3</td>\n",
       "      <td>942.839023</td>\n",
       "    </tr>\n",
       "    <tr>\n",
       "      <th>9915</th>\n",
       "      <td>10716.66218</td>\n",
       "      <td>3</td>\n",
       "      <td>962.030262</td>\n",
       "    </tr>\n",
       "    <tr>\n",
       "      <th>9916</th>\n",
       "      <td>10717.66128</td>\n",
       "      <td>3</td>\n",
       "      <td>963.213626</td>\n",
       "    </tr>\n",
       "    <tr>\n",
       "      <th>9917</th>\n",
       "      <td>10718.66038</td>\n",
       "      <td>3</td>\n",
       "      <td>947.956869</td>\n",
       "    </tr>\n",
       "    <tr>\n",
       "      <th>9918</th>\n",
       "      <td>10719.65948</td>\n",
       "      <td>3</td>\n",
       "      <td>944.314505</td>\n",
       "    </tr>\n",
       "    <tr>\n",
       "      <th>9919</th>\n",
       "      <td>10720.65858</td>\n",
       "      <td>3</td>\n",
       "      <td>968.184917</td>\n",
       "    </tr>\n",
       "  </tbody>\n",
       "</table>\n",
       "</div>"
      ],
      "text/plain": [
       "             time  input_voltage       power\n",
       "9909  10710.66758              3  953.697653\n",
       "9910  10711.66668              3  945.234157\n",
       "9911  10712.66578              3  961.336850\n",
       "9912  10713.66488              3  954.077284\n",
       "9913  10714.66398              3  968.619166\n",
       "9914  10715.66308              3  942.839023\n",
       "9915  10716.66218              3  962.030262\n",
       "9916  10717.66128              3  963.213626\n",
       "9917  10718.66038              3  947.956869\n",
       "9918  10719.65948              3  944.314505\n",
       "9919  10720.65858              3  968.184917"
      ]
     },
     "execution_count": 14,
     "metadata": {},
     "output_type": "execute_result"
    }
   ],
   "source": [
    "df = df.rename(columns = {'el_power': 'power'})\n",
    "df.tail(11)"
   ]
  },
  {
   "cell_type": "code",
   "execution_count": 15,
   "id": "e2363f87-fd44-4aa3-9924-882e083494f4",
   "metadata": {},
   "outputs": [
    {
     "data": {
      "text/plain": [
       "<Axes: xlabel='time', ylabel='power'>"
      ]
     },
     "execution_count": 15,
     "metadata": {},
     "output_type": "execute_result"
    },
    {
     "data": {
      "image/png": "[encoded data removed]",
      "text/plain": [
       "<Figure size 640x480 with 1 Axes>"
      ]
     },
     "metadata": {},
     "output_type": "display_data"
    }
   ],
   "source": [
    "sns.scatterplot(data=df, x='time',y='power',hue='input_voltage',palette='colorblind')"
   ]
  },
  {
   "cell_type": "markdown",
   "id": "ba1f4019-faca-4786-8c03-caf41d6dfdb6",
   "metadata": {},
   "source": [
    "This scatterplot shows that power exhibits a recurrent pattern over time, with no signs of a linear relationship. Voltage increases as power increases and decreases as power decreases. Additionally, power stagnates briefly before fluctuating."
   ]
  },
  {
   "cell_type": "code",
   "execution_count": 17,
   "id": "a2c928e1-1f88-44c5-ba45-55742b5fac92",
   "metadata": {},
   "outputs": [
    {
     "data": {
      "text/plain": [
       "<Axes: >"
      ]
     },
     "execution_count": 17,
     "metadata": {},
     "output_type": "execute_result"
    },
    {
     "data": {
      "image/png": "[encoded data removed]",
      "text/plain": [
       "<Figure size 640x480 with 2 Axes>"
      ]
     },
     "metadata": {},
     "output_type": "display_data"
    }
   ],
   "source": [
    "sns.heatmap(df[['time','power','input_voltage']].corr())"
   ]
  },
  {
   "cell_type": "markdown",
   "id": "ac92dcdb-fde0-4d1d-9dcb-b252c7daa86c",
   "metadata": {},
   "source": [
    "This heatmap reveals a low correlation between time and power and a stronger correlation between input_voltage and power.\n",
    "Additionaly it shows a weak correlation between input_voltage and time."
   ]
  },
  {
   "cell_type": "code",
   "execution_count": 19,
   "id": "1ed79fa0-111f-48fb-9406-25e8d0ea2cb6",
   "metadata": {},
   "outputs": [],
   "source": [
    "df.to_csv('cleaned_train_dataset.csv')"
   ]
  },
  {
   "cell_type": "markdown",
   "id": "25bd3234-6af4-4ad7-830d-534dc6a473d5",
   "metadata": {},
   "source": [
    "Now that we have saved the dataset, let's move on to the preprocessing stage. Since there are only three variables (features), there is no need to select variables to avoid overfitting."
   ]
  },
  {
   "cell_type": "code",
   "execution_count": 43,
   "id": "032fcea5-3cae-4a86-990c-a101273934ce",
   "metadata": {},
   "outputs": [],
   "source": [
    "from sklearn.model_selection import train_test_split, GridSearchCV\n",
    "from sklearn.preprocessing import StandardScaler\n",
    "from sklearn.ensemble import RandomForestRegressor\n",
    "from sklearn.metrics import r2_score, mean_absolute_error, mean_squared_error"
   ]
  },
  {
   "cell_type": "code",
   "execution_count": 22,
   "id": "b3bb5eca-b6b1-4642-9b3d-3f74784120aa",
   "metadata": {},
   "outputs": [],
   "source": [
    "train_df = pd.read_csv('cleaned_train_dataset.csv')\n",
    "test_df = pd.read_csv('cleaned_testt_data.csv')"
   ]
  },
  {
   "cell_type": "code",
   "execution_count": 23,
   "id": "6c89b44f-0e2a-4f5f-b064-a0740ce52b40",
   "metadata": {},
   "outputs": [],
   "source": [
    "X = train_df.drop(columns=['power'])\n",
    "y = train_df['power']"
   ]
  },
  {
   "cell_type": "code",
   "execution_count": 47,
   "id": "7809066b-8d0f-43fd-92c2-9fd17fe156c4",
   "metadata": {},
   "outputs": [],
   "source": [
    "X_train, X_temp,y_train, y_temp = train_test_split (X, y, test_size=0.3, random_state=42)\n",
    "X_val, X_test, y_val, y_test = train_test_split(X_temp, y_temp, test_size=0.5, random_state=42)\n",
    "\n",
    "scaler = StandardScaler()\n",
    "X_train = scaler.fit_transform(X_train)\n",
    "X_val = scaler.transform(X_val)\n",
    "X_test = scaler.transform(X_test)"
   ]
  },
  {
   "cell_type": "code",
   "execution_count": 49,
   "id": "2d13770a-d894-4a45-ac5c-36889157035a",
   "metadata": {},
   "outputs": [],
   "source": [
    "rf = RandomForestRegressor(random_state=42)"
   ]
  },
  {
   "cell_type": "code",
   "execution_count": 51,
   "id": "32fa24d5-c8a2-48c2-aefb-726f80f4407b",
   "metadata": {},
   "outputs": [
    {
     "name": "stdout",
     "output_type": "stream",
     "text": [
      "Best Parameters: {'max_depth': 10, 'min_samples_split': 2, 'n_estimators': 200}\n"
     ]
    }
   ],
   "source": [
    "param_grid = {\n",
    "    'n_estimators': [50,100,200],\n",
    "    'max_depth': [None,10,20],\n",
    "    'min_samples_split':[2,5,10]\n",
    "}\n",
    "\n",
    "grid_search = GridSearchCV(rf, param_grid, cv=5, scoring='r2', n_jobs=-1)\n",
    "grid_search.fit(X_train, y_train)\n",
    "\n",
    "best_rf = grid_search.best_estimator_\n",
    "print(f'Best Parameters: {grid_search.best_params_}')"
   ]
  },
  {
   "cell_type": "code",
   "execution_count": 53,
   "id": "785bb6d6-7575-4d40-befa-9c9fc091caa0",
   "metadata": {},
   "outputs": [
    {
     "name": "stdout",
     "output_type": "stream",
     "text": [
      "Validation Set Performance:\n",
      "MAE: 11.0364\n",
      "RMSE: 12.3713\n",
      "R2 Score; 0.9998\n"
     ]
    }
   ],
   "source": [
    "y_val_pred = best_rf.predict(X_val)\n",
    "val_mae = mean_absolute_error(y_val, y_val_pred)\n",
    "val_mse = mean_squared_error(y_val, y_val_pred)\n",
    "val_rmse = np.sqrt(val_mse)\n",
    "val_r2 = r2_score(y_val, y_val_pred)\n",
    "\n",
    "print(\"Validation Set Performance:\")\n",
    "print(f\"MAE: {val_mae:.4f}\")\n",
    "print(f\"RMSE: {val_rmse:.4f}\")\n",
    "print(f\"R2 Score; {val_r2:.4f}\")"
   ]
  },
  {
   "cell_type": "code",
   "execution_count": 55,
   "id": "766acc6c-8456-419e-8237-ea1e47772b5a",
   "metadata": {},
   "outputs": [
    {
     "name": "stdout",
     "output_type": "stream",
     "text": [
      "Final Test Set Performance:\n",
      "MAE: 11.0743\n",
      "RMSE: 12.3306\n",
      "R2 Score: 0.9999\n"
     ]
    }
   ],
   "source": [
    "y_pred = best_rf.predict(X_test)\n",
    "mae = mean_absolute_error(y_test, y_pred)\n",
    "mse = mean_squared_error(y_test, y_pred)\n",
    "rmse = np.sqrt(mse)\n",
    "r2 = r2_score(y_test, y_pred)\n",
    "\n",
    "print(\"Final Test Set Performance:\")\n",
    "print(f\"MAE: {mae:.4f}\")\n",
    "print(f\"RMSE: {rmse:.4f}\")\n",
    "print(f\"R2 Score: {r2:.4f}\")"
   ]
  },
  {
   "cell_type": "markdown",
   "id": "f3263bc8-42d5-4569-8e6b-aaac2e2bc7b1",
   "metadata": {},
   "source": [
    "Since the validation set and test set are identical, there are no signs of overfitting. The predictions seem to be off by only 11 units (MAE) and 12 units (RMSE), with a prediction-to-variance score of 99% (R²)."
   ]
  },
  {
   "cell_type": "code",
   "execution_count": 61,
   "id": "a5bea437-ecd6-43f8-bf97-1821f4c62c63",
   "metadata": {},
   "outputs": [
    {
     "data": {
      "image/png": "[encoded data removed]",
      "text/plain": [
       "<Figure size 800x500 with 1 Axes>"
      ]
     },
     "metadata": {},
     "output_type": "display_data"
    }
   ],
   "source": [
    "feature_importance = best_rf.feature_importances_\n",
    "feature_names = X.columns\n",
    "\n",
    "plt.figure(figsize=(8,5))\n",
    "plt.barh(feature_names, feature_importance, color='skyblue')\n",
    "plt.xlabel('Importance')\n",
    "plt.ylabel('Feature')\n",
    "plt.title('Feature Importance in Random Forest')\n",
    "plt.show()"
   ]
  },
  {
   "cell_type": "markdown",
   "id": "ceef3746-df29-4021-a4fb-2b3ad5c1ec10",
   "metadata": {},
   "source": [
    "I forgot to check the columns and rows for missing data (Unnamed: 0), but based on the feature importance, it seems that the unnamed columns belonged to the time feature. Since this feature has very low importance, the dataset is good to go."
   ]
  },
  {
   "cell_type": "code",
   "execution_count": 65,
   "id": "952fdc58-9256-4601-a3b0-78f59193d31b",
   "metadata": {},
   "outputs": [],
   "source": [
    "import joblib"
   ]
  },
  {
   "cell_type": "code",
   "execution_count": 67,
   "id": "f3ee63e7-f195-4ff4-9b9d-57e0ecab4ad4",
   "metadata": {},
   "outputs": [
    {
     "name": "stdout",
     "output_type": "stream",
     "text": [
      "Model saved as 'random_forest_model.pk1'\n"
     ]
    }
   ],
   "source": [
    "joblib.dump(best_rf, \"random_forest_model.pkl\")\n",
    "print(\"Model saved as 'random_forest_model.pk1'\")"
   ]
  },
  {
   "cell_type": "code",
   "execution_count": null,
   "id": "7a5c1882-44f7-4742-86a1-09082a558f56",
   "metadata": {},
   "outputs": [],
   "source": []
  }
 ],
 "metadata": {
  "kernelspec": {
   "display_name": "Python 3 (ipykernel)",
   "language": "python",
   "name": "python3"
  },
  "language_info": {
   "codemirror_mode": {
    "name": "ipython",
    "version": 3
   },
   "file_extension": ".py",
   "mimetype": "text/x-python",
   "name": "python",
   "nbconvert_exporter": "python",
   "pygments_lexer": "ipython3",
   "version": "3.11.7"
  }
 },
 "nbformat": 4,
 "nbformat_minor": 5
}
